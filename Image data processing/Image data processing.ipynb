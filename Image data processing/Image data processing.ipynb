{
 "cells": [
  {
   "cell_type": "markdown",
   "id": "20b70107-5634-4734-ba17-45ae709f00f4",
   "metadata": {
    "tags": []
   },
   "source": [
    "### Task\n",
    "Image classification using Machine learning algorithms \n",
    "\n",
    "Yor task is the segmentation of database using machine learning algorithms\n",
    " - Take 2 numbers of your choice from MNIST database\n",
    " - Implement feature extraction on the chosen pic-data\n",
    " - Add labels to the pictures and show them\n",
    " - Declare a Supervised learning model and train it on train image-database\n",
    " - Test the algorithm on the test-database share your opinions on the result\n",
    "\n",
    "(you can also use Unsupervised model and compare the results)\n",
    "\n",
    "### Data\n",
    " - Train images: train-images.idx3-ubyte\n",
    " - Train image labels: train-labels.idx1-ubyte\n",
    " - Test images: t10k-images.idx3-ubyte\n",
    " - Test image labels: t10k-labels.idx1-ubyte\n"
   ]
  },
  {
   "cell_type": "markdown",
   "id": "e4ae3a07-6012-486b-bc5c-2796c6c643d7",
   "metadata": {
    "tags": []
   },
   "source": [
    "## -------------------- Solution -----------------\n",
    "\n",
    "# Code Structure\n",
    "I have divided my code into 3 sections:\n",
    "-knn\n",
    "-kmeans\n",
    "-own algorithm(not complete yet) \n",
    "\n",
    "I started with data preprocessing for easier manipulation in further algorithms\n",
    "This includes filtering the required data from train data+labels as well as filtering\n",
    "the test data.\n",
    "\n",
    "1)The knn algorithm showed very high accuracy in confusion matrix\n",
    "\n",
    "2)The Kmeans with pixels sum and gray scale pixel average feature was relatively less accurate\n",
    "\n",
    "3)My owm algorithm : main idea was to build a neural network which can process and identify\n",
    "  28*28 grayscale image with only single object in it. I tried it for all the numbers at once.\n",
    "  The loss was not that much as shown in the iterations. Overall i think it works better than expected"
   ]
  },
  {
   "cell_type": "code",
   "execution_count": 2,
   "id": "2db68871-ab5c-4971-88e8-ca8b6129e5b7",
   "metadata": {
    "tags": []
   },
   "outputs": [],
   "source": [
    "# útravalóra van szükségem :)\n",
    "import numpy as np\n",
    "from matplotlib import pyplot as plt\n",
    "import idx2numpy\n",
    "from sklearn.neighbors import KNeighborsClassifier\n",
    "import math\n",
    "from sklearn.metrics import confusion_matrix\n",
    "from sklearn.cluster import KMeans"
   ]
  },
  {
   "cell_type": "code",
   "execution_count": 3,
   "id": "e435f6ab-9de1-4751-9dee-331346b3291d",
   "metadata": {
    "tags": []
   },
   "outputs": [],
   "source": [
    "TRAIN_IMAGE_FILENAME = 'mnist_data/train-images.idx3-ubyte'\n",
    "TRAIN_LABEL_FILENAME = 'mnist_data/train-labels.idx1-ubyte'\n",
    "TEST_IMAGE_FILENAME = 'mnist_data/t10k-images.idx3-ubyte'\n",
    "TEST_LABEL_FILENAME = 'mnist_data/t10k-labels.idx1-ubyte'"
   ]
  },
  {
   "cell_type": "code",
   "execution_count": 4,
   "id": "eb265362-7eaf-446b-b47c-b3510d47092c",
   "metadata": {
    "tags": []
   },
   "outputs": [],
   "source": [
    "train_images = idx2numpy.convert_from_file(TRAIN_IMAGE_FILENAME)\n",
    "train_labels = idx2numpy.convert_from_file(TRAIN_LABEL_FILENAME)\n",
    "test_images = idx2numpy.convert_from_file(TEST_IMAGE_FILENAME)\n",
    "test_labels = idx2numpy.convert_from_file(TEST_LABEL_FILENAME)"
   ]
  },
  {
   "cell_type": "code",
   "execution_count": 5,
   "id": "336f76d3-bdd7-48a1-8df7-0263db9e664e",
   "metadata": {
    "tags": []
   },
   "outputs": [],
   "source": [
    "# Data preprocessing functions\n",
    "# filter data for 2 numbers only based on already known labels\n",
    "# just to reduce processing time\n",
    "def get_new_labels(number1,number2,labels_data_set):\n",
    "    number1_indexes = []\n",
    "    number2_indexes = []\n",
    "    i = 0\n",
    "    for label in labels_data_set:\n",
    "        if label == number1:\n",
    "            number1_indexes.append(i)\n",
    "        elif label == number2:\n",
    "            number2_indexes.append(i)\n",
    "        i+=1\n",
    "    return number1_indexes,number2_indexes\n",
    "\n",
    "# to make the classifying task easy i am making a sub data array\n",
    "# that sub data array will contain image itself with the label\n",
    "# eg: if image1 one is 0 and image2 is 1:  [[image1,0],[image2,1]....] etc\n",
    "#this is used for training the model\n",
    "def combine_data(data_array,number_value,image_data_set):\n",
    "    filtered_data = []\n",
    "    for i in range(len(data_array)-1):\n",
    "        data = [image_data_set [data_array[i]],number_value]\n",
    "        filtered_data.append(data)\n",
    "    return filtered_data\n",
    "\n",
    "def separate_sorted_data(data_set):\n",
    "    image_data= []\n",
    "    labels_data = []\n",
    "    for data in data_set:\n",
    "        image_data.append(data[0].flatten())\n",
    "        labels_data.append(data[1])\n",
    "    return image_data,labels_data\n",
    "        \n",
    "    "
   ]
  },
  {
   "cell_type": "markdown",
   "id": "dc59cd09-9d85-41d2-808a-34e83e159bba",
   "metadata": {},
   "source": [
    "# KNN Algorithm implementation and checking accuracy with confusion Matrix"
   ]
  },
  {
   "cell_type": "code",
   "execution_count": 6,
   "id": "9d32a0a8-8a35-4d23-875d-bea3f170b829",
   "metadata": {
    "tags": []
   },
   "outputs": [],
   "source": [
    "#enter two numbers for knn calculation (i tested the model mainly with 0 and 1):\n",
    "number1 = 0\n",
    "number2 = 1"
   ]
  },
  {
   "cell_type": "code",
   "execution_count": 7,
   "id": "aae614b3-5ca9-47ad-a3ec-2201559c17d5",
   "metadata": {
    "tags": []
   },
   "outputs": [],
   "source": [
    "#a,b = get_new_labels(0,1,train_labels) #train_labels\n",
    "train_labels1, train_labels2 = get_new_labels(number1,number2,train_labels)\n",
    "test_labels1, test_labels2 = get_new_labels(number1,number2,test_labels)"
   ]
  },
  {
   "cell_type": "code",
   "execution_count": 8,
   "id": "464e6bd8-c400-432f-b1c6-3a7f8665f809",
   "metadata": {
    "tags": []
   },
   "outputs": [],
   "source": [
    "# i made a separate list consisting of only the required test and train images with the\n",
    "train_data  = combine_data(train_labels1,number1,train_images) + combine_data(train_labels2,number2,train_images)# this data will be used to train our model\n",
    "test_data = combine_data(test_labels1,number1,test_images) + combine_data(test_labels2,number2,test_images)"
   ]
  },
  {
   "cell_type": "code",
   "execution_count": 9,
   "id": "64cefe1a-4d8f-4670-aa54-fdb11d677ead",
   "metadata": {
    "tags": []
   },
   "outputs": [
    {
     "data": {
      "text/plain": [
       "0"
      ]
     },
     "execution_count": 9,
     "metadata": {},
     "output_type": "execute_result"
    }
   ],
   "source": [
    "train_data_img,train_data_labels = separate_sorted_data(train_data)\n",
    "test_data_img,test_data_labels = separate_sorted_data(test_data)\n",
    "test_data_labels[130]"
   ]
  },
  {
   "cell_type": "code",
   "execution_count": 10,
   "id": "315a6979-7a7a-4379-aaed-7aa867e4d046",
   "metadata": {
    "tags": []
   },
   "outputs": [],
   "source": [
    "# knn implement\n",
    "# best way to find the number of knn neighbor is to find sqrt of the total data set\n",
    "knn_neighbors = int(math.sqrt(len(train_data)))\n",
    "# its goo idea to have odd numbers for knn neighbors to avoid any problems during voting\n",
    "if knn_neighbors%2 ==0 :\n",
    "    knn_neighbors -=1\n",
    "knn = KNeighborsClassifier(n_neighbors=knn_neighbors)"
   ]
  },
  {
   "cell_type": "code",
   "execution_count": 11,
   "id": "93dfd674-93e1-4737-a12e-3f7d81816d86",
   "metadata": {
    "tags": []
   },
   "outputs": [
    {
     "data": {
      "text/html": [
       "<style>#sk-container-id-1 {color: black;}#sk-container-id-1 pre{padding: 0;}#sk-container-id-1 div.sk-toggleable {background-color: white;}#sk-container-id-1 label.sk-toggleable__label {cursor: pointer;display: block;width: 100%;margin-bottom: 0;padding: 0.3em;box-sizing: border-box;text-align: center;}#sk-container-id-1 label.sk-toggleable__label-arrow:before {content: \"▸\";float: left;margin-right: 0.25em;color: #696969;}#sk-container-id-1 label.sk-toggleable__label-arrow:hover:before {color: black;}#sk-container-id-1 div.sk-estimator:hover label.sk-toggleable__label-arrow:before {color: black;}#sk-container-id-1 div.sk-toggleable__content {max-height: 0;max-width: 0;overflow: hidden;text-align: left;background-color: #f0f8ff;}#sk-container-id-1 div.sk-toggleable__content pre {margin: 0.2em;color: black;border-radius: 0.25em;background-color: #f0f8ff;}#sk-container-id-1 input.sk-toggleable__control:checked~div.sk-toggleable__content {max-height: 200px;max-width: 100%;overflow: auto;}#sk-container-id-1 input.sk-toggleable__control:checked~label.sk-toggleable__label-arrow:before {content: \"▾\";}#sk-container-id-1 div.sk-estimator input.sk-toggleable__control:checked~label.sk-toggleable__label {background-color: #d4ebff;}#sk-container-id-1 div.sk-label input.sk-toggleable__control:checked~label.sk-toggleable__label {background-color: #d4ebff;}#sk-container-id-1 input.sk-hidden--visually {border: 0;clip: rect(1px 1px 1px 1px);clip: rect(1px, 1px, 1px, 1px);height: 1px;margin: -1px;overflow: hidden;padding: 0;position: absolute;width: 1px;}#sk-container-id-1 div.sk-estimator {font-family: monospace;background-color: #f0f8ff;border: 1px dotted black;border-radius: 0.25em;box-sizing: border-box;margin-bottom: 0.5em;}#sk-container-id-1 div.sk-estimator:hover {background-color: #d4ebff;}#sk-container-id-1 div.sk-parallel-item::after {content: \"\";width: 100%;border-bottom: 1px solid gray;flex-grow: 1;}#sk-container-id-1 div.sk-label:hover label.sk-toggleable__label {background-color: #d4ebff;}#sk-container-id-1 div.sk-serial::before {content: \"\";position: absolute;border-left: 1px solid gray;box-sizing: border-box;top: 0;bottom: 0;left: 50%;z-index: 0;}#sk-container-id-1 div.sk-serial {display: flex;flex-direction: column;align-items: center;background-color: white;padding-right: 0.2em;padding-left: 0.2em;position: relative;}#sk-container-id-1 div.sk-item {position: relative;z-index: 1;}#sk-container-id-1 div.sk-parallel {display: flex;align-items: stretch;justify-content: center;background-color: white;position: relative;}#sk-container-id-1 div.sk-item::before, #sk-container-id-1 div.sk-parallel-item::before {content: \"\";position: absolute;border-left: 1px solid gray;box-sizing: border-box;top: 0;bottom: 0;left: 50%;z-index: -1;}#sk-container-id-1 div.sk-parallel-item {display: flex;flex-direction: column;z-index: 1;position: relative;background-color: white;}#sk-container-id-1 div.sk-parallel-item:first-child::after {align-self: flex-end;width: 50%;}#sk-container-id-1 div.sk-parallel-item:last-child::after {align-self: flex-start;width: 50%;}#sk-container-id-1 div.sk-parallel-item:only-child::after {width: 0;}#sk-container-id-1 div.sk-dashed-wrapped {border: 1px dashed gray;margin: 0 0.4em 0.5em 0.4em;box-sizing: border-box;padding-bottom: 0.4em;background-color: white;}#sk-container-id-1 div.sk-label label {font-family: monospace;font-weight: bold;display: inline-block;line-height: 1.2em;}#sk-container-id-1 div.sk-label-container {text-align: center;}#sk-container-id-1 div.sk-container {/* jupyter's `normalize.less` sets `[hidden] { display: none; }` but bootstrap.min.css set `[hidden] { display: none !important; }` so we also need the `!important` here to be able to override the default hidden behavior on the sphinx rendered scikit-learn.org. See: https://github.com/scikit-learn/scikit-learn/issues/21755 */display: inline-block !important;position: relative;}#sk-container-id-1 div.sk-text-repr-fallback {display: none;}</style><div id=\"sk-container-id-1\" class=\"sk-top-container\"><div class=\"sk-text-repr-fallback\"><pre>KNeighborsClassifier(n_neighbors=111)</pre><b>In a Jupyter environment, please rerun this cell to show the HTML representation or trust the notebook. <br />On GitHub, the HTML representation is unable to render, please try loading this page with nbviewer.org.</b></div><div class=\"sk-container\" hidden><div class=\"sk-item\"><div class=\"sk-estimator sk-toggleable\"><input class=\"sk-toggleable__control sk-hidden--visually\" id=\"sk-estimator-id-1\" type=\"checkbox\" checked><label for=\"sk-estimator-id-1\" class=\"sk-toggleable__label sk-toggleable__label-arrow\">KNeighborsClassifier</label><div class=\"sk-toggleable__content\"><pre>KNeighborsClassifier(n_neighbors=111)</pre></div></div></div></div></div>"
      ],
      "text/plain": [
       "KNeighborsClassifier(n_neighbors=111)"
      ]
     },
     "execution_count": 11,
     "metadata": {},
     "output_type": "execute_result"
    }
   ],
   "source": [
    "knn.fit(train_data_img,train_data_labels)"
   ]
  },
  {
   "cell_type": "code",
   "execution_count": 12,
   "id": "7558cc43-f668-4bd7-9d19-86eff61de27e",
   "metadata": {
    "tags": []
   },
   "outputs": [
    {
     "data": {
      "text/plain": [
       "array([0, 0, 0, ..., 1, 1, 1])"
      ]
     },
     "execution_count": 12,
     "metadata": {},
     "output_type": "execute_result"
    }
   ],
   "source": [
    "predict_data = knn.predict(test_data_img)\n",
    "predict_data"
   ]
  },
  {
   "cell_type": "code",
   "execution_count": 13,
   "id": "79b0daeb-bd2b-4bdd-ba21-ad35525249dd",
   "metadata": {
    "tags": []
   },
   "outputs": [
    {
     "data": {
      "text/plain": [
       "array([[ 976,    3],\n",
       "       [   0, 1134]], dtype=int64)"
      ]
     },
     "execution_count": 13,
     "metadata": {},
     "output_type": "execute_result"
    }
   ],
   "source": [
    "confusion_matrix1 = confusion_matrix(test_data_labels,predict_data)\n",
    "confusion_matrix1"
   ]
  },
  {
   "cell_type": "code",
   "execution_count": 14,
   "id": "4d6c6589-0bd6-4c1e-bf1f-1b66102f6490",
   "metadata": {
    "tags": []
   },
   "outputs": [],
   "source": [
    "#testing data preprocessing functions\n",
    "number = 1500\n",
    "train_data[number][0];"
   ]
  },
  {
   "cell_type": "code",
   "execution_count": 15,
   "id": "119b3087-ce7b-4fc5-9556-125e93e2f7ea",
   "metadata": {
    "tags": []
   },
   "outputs": [
    {
     "data": {
      "text/plain": [
       "<matplotlib.image.AxesImage at 0x1329ff42c50>"
      ]
     },
     "execution_count": 15,
     "metadata": {},
     "output_type": "execute_result"
    },
    {
     "data": {
      "image/png": "[encoded data removed]",
      "text/plain": [
       "<Figure size 640x480 with 1 Axes>"
      ]
     },
     "metadata": {},
     "output_type": "display_data"
    }
   ],
   "source": [
    "plt.imshow(train_data[number][0])"
   ]
  },
  {
   "cell_type": "code",
   "execution_count": 16,
   "id": "fbfad942-4a9a-4171-b49e-4c78ed701bc4",
   "metadata": {
    "tags": []
   },
   "outputs": [
    {
     "data": {
      "text/plain": [
       "<matplotlib.image.AxesImage at 0x132a54d4cd0>"
      ]
     },
     "execution_count": 16,
     "metadata": {},
     "output_type": "execute_result"
    },
    {
     "data": {
      "image/png": "[encoded data removed]",
      "text/plain": [
       "<Figure size 640x480 with 1 Axes>"
      ]
     },
     "metadata": {},
     "output_type": "display_data"
    }
   ],
   "source": [
    "i=20000\n",
    "plt.imshow(train_images[i])"
   ]
  },
  {
   "cell_type": "code",
   "execution_count": 17,
   "id": "65166e3e-7b63-4f98-b1af-cfa4ddfeb044",
   "metadata": {
    "tags": []
   },
   "outputs": [
    {
     "data": {
      "text/plain": [
       "5"
      ]
     },
     "execution_count": 17,
     "metadata": {},
     "output_type": "execute_result"
    }
   ],
   "source": [
    "train_labels[i]"
   ]
  },
  {
   "cell_type": "markdown",
   "id": "206b2f1a-3b9d-4031-ac19-28c9579f2572",
   "metadata": {},
   "source": [
    "# Unsupervised learning - feature extraction - statistics"
   ]
  },
  {
   "cell_type": "code",
   "execution_count": 18,
   "id": "bfa946e0-1673-4a44-be18-5af3de00231f",
   "metadata": {},
   "outputs": [
    {
     "data": {
      "text/plain": [
       "Text(0.5, 1.0, 'Zeros')"
      ]
     },
     "execution_count": 18,
     "metadata": {},
     "output_type": "execute_result"
    },
    {
     "data": {
      "image/png": "[encoded data removed]",
      "text/plain": [
       "<Figure size 800x800 with 2 Axes>"
      ]
     },
     "metadata": {},
     "output_type": "display_data"
    }
   ],
   "source": [
    "# Examining the data for feature extraction\n",
    "# Data shows that generally 0 have more lighter pixels than 1\n",
    "fig, axes = plt.subplots(1,2,figsize=(8,8))\n",
    "fig.tight_layout()\n",
    "\n",
    "\n",
    "axes[0].imshow(train_data_img[8500].reshape(28,28),'gray')\n",
    "axes[0].set_title('ones')\n",
    "\n",
    "axes[1].imshow(train_data_img[1000].reshape(28,28)>10,'gray')\n",
    "axes[1].set_title('Zeros')"
   ]
  },
  {
   "cell_type": "code",
   "execution_count": 19,
   "id": "6cc6cea8-2b5e-40ce-8d1f-500ff23b7515",
   "metadata": {
    "tags": []
   },
   "outputs": [],
   "source": [
    "train_number1 = number1\n",
    "train_number2 = number2\n",
    "\n",
    "\n",
    "train_data_number1 = separate_sorted_data(combine_data(train_labels1,train_number1,train_images))[0]\n",
    "train_data_number2 = separate_sorted_data(combine_data(train_labels2,train_number2,train_images))[0]\n"
   ]
  },
  {
   "cell_type": "code",
   "execution_count": 20,
   "id": "40c8ef97-5ccf-41a9-b1bf-ef796ce2456b",
   "metadata": {
    "tags": []
   },
   "outputs": [
    {
     "data": {
      "text/plain": [
       "False"
      ]
     },
     "execution_count": 20,
     "metadata": {},
     "output_type": "execute_result"
    }
   ],
   "source": [
    "len(train_data_number1) == len(train_data_number2)"
   ]
  },
  {
   "cell_type": "code",
   "execution_count": 21,
   "id": "915afc02-22a0-4c5b-a877-f935df1bf3fa",
   "metadata": {
    "tags": []
   },
   "outputs": [],
   "source": [
    "# FE: feature extraction\n",
    "# at first glance if we convert the images to binary images\n",
    "# and count white total pixels the images containing \n",
    "# zeros should have higher output then the\n",
    "# images containing one \n",
    "\n",
    "def convert_imageToBinary(imageData):\n",
    "    bin_images = []\n",
    "    for image in imageData:\n",
    "        bin_images.append(image>1)\n",
    "    return bin_images\n",
    "# adds the white pixels in the image\n",
    "def calcPixels(imageData):\n",
    "    pixelData = []\n",
    "    for image in imageData:\n",
    "        pixel = 0\n",
    "        for pixels in image:\n",
    "            pixel = pixel + pixels\n",
    "        pixelData.append(pixel)\n",
    "    return pixelData\n",
    "# image average calculating method            \n",
    "def calcAvg(imageData):\n",
    "    pixelAVG= []\n",
    "    for image in imageData:\n",
    "        pixel = 0\n",
    "        for pixels in image:\n",
    "            pixel = pixel + pixels\n",
    "        pixelAVG.append(pixel/784)\n",
    "    return pixelAVG\n",
    "# for the normalization of data to make its value between 0-1. its useful when plotting different type of\n",
    "# data in one grapf\n",
    "def normalize(data):\n",
    "    return (data - np.min(data)) / (np.max(data) - np.min(data))"
   ]
  },
  {
   "cell_type": "code",
   "execution_count": 22,
   "id": "f13e1a09-0c1c-4677-8006-b4514b5e5978",
   "metadata": {
    "tags": []
   },
   "outputs": [],
   "source": [
    "#converting images to binary for better understanding of data\n",
    "bin_train_data_number1 = convert_imageToBinary(train_data_number1)\n",
    "bin_train_data_number2 = convert_imageToBinary(train_data_number2)"
   ]
  },
  {
   "cell_type": "code",
   "execution_count": 23,
   "id": "d3516bb2-8ac8-40b5-bb6c-ae184232f3f0",
   "metadata": {
    "tags": []
   },
   "outputs": [
    {
     "data": {
      "text/plain": [
       "<matplotlib.image.AxesImage at 0x132a54234d0>"
      ]
     },
     "execution_count": 23,
     "metadata": {},
     "output_type": "execute_result"
    },
    {
     "data": {
      "image/png": "[encoded data removed]",
      "text/plain": [
       "<Figure size 640x480 with 1 Axes>"
      ]
     },
     "metadata": {},
     "output_type": "display_data"
    }
   ],
   "source": [
    "plt.imshow(bin_train_data_number1[1000].reshape(28,28))"
   ]
  },
  {
   "cell_type": "code",
   "execution_count": 24,
   "id": "2312b0cc-d73f-4eac-8839-f950f8774e6c",
   "metadata": {
    "tags": []
   },
   "outputs": [],
   "source": [
    "# visualizing the data\n",
    "# based on basic visuals i decided to choose sum of white pixels in binary\n",
    "# form of the train pictures as my first feature\n",
    "First_number_image_pixels = calcPixels(bin_train_data_number1);\n",
    "Second_number_image_pixels = calcPixels(bin_train_data_number2);\n",
    "# for my second feature i chose average of grayscale picture\n",
    "First_number_image_AVG = calcAvg(train_data_number1);\n",
    "Second_number_image_AVG = calcAvg(train_data_number2);\n"
   ]
  },
  {
   "cell_type": "code",
   "execution_count": 25,
   "id": "65c35e01-cdbf-42da-8e13-8327c86298d2",
   "metadata": {
    "tags": []
   },
   "outputs": [
    {
     "data": {
      "text/plain": [
       "array([0.44794953, 0.34959743])"
      ]
     },
     "execution_count": 25,
     "metadata": {},
     "output_type": "execute_result"
    }
   ],
   "source": [
    "total_unlabeled_data = np.array([normalize(First_number_image_pixels + Second_number_image_pixels),normalize(First_number_image_AVG +Second_number_image_AVG)]).T\n",
    "total_unlabeled_data[0]"
   ]
  },
  {
   "cell_type": "markdown",
   "id": "3fa71fbf-ff8e-4e14-8ca0-ffbf2f3aa441",
   "metadata": {},
   "source": [
    "Althogh both features were very similar its very interesting to see that they produced\n",
    "noticable different result"
   ]
  },
  {
   "cell_type": "code",
   "execution_count": 26,
   "id": "359e49c2-69a3-4130-9e76-be2a24d4c972",
   "metadata": {
    "tags": []
   },
   "outputs": [
    {
     "data": {
      "image/png": "[encoded data removed]",
      "text/plain": [
       "<Figure size 640x480 with 1 Axes>"
      ]
     },
     "metadata": {},
     "output_type": "display_data"
    }
   ],
   "source": [
    "# visualizing the data pixels sum in graph form just to get the better idea of working\n",
    "for i in zip(np.arange(100), First_number_image_pixels, Second_number_image_pixels ):\n",
    "    plt.scatter(i[0], i[1], color= 'firebrick')\n",
    "    plt.scatter(i[0], i[2], color= 'forestgreen')"
   ]
  },
  {
   "cell_type": "code",
   "execution_count": 27,
   "id": "c22ffaa3-eca9-4cf8-996a-db3502bda1b6",
   "metadata": {
    "tags": []
   },
   "outputs": [
    {
     "data": {
      "image/png": "[encoded data removed]",
      "text/plain": [
       "<Figure size 640x480 with 1 Axes>"
      ]
     },
     "metadata": {},
     "output_type": "display_data"
    }
   ],
   "source": [
    "# visualizing the data average in graph form just to get the better idea of working\n",
    "for i in zip(np.arange(100),First_number_image_AVG,Second_number_image_AVG ):\n",
    "    plt.scatter(i[0], i[1], color= 'firebrick')\n",
    "    plt.scatter(i[0], i[2], color= 'forestgreen')"
   ]
  },
  {
   "cell_type": "code",
   "execution_count": 28,
   "id": "5811066f-3d50-4f05-a529-e9a300119a9b",
   "metadata": {
    "tags": []
   },
   "outputs": [],
   "source": [
    "# Kmeans\n",
    "kmean = KMeans(\n",
    "    init = 'random',\n",
    "    n_clusters = 2,\n",
    "    n_init = 10,\n",
    "    max_iter = 100,\n",
    "    random_state = 50  \n",
    ")"
   ]
  },
  {
   "cell_type": "code",
   "execution_count": 29,
   "id": "ba702694-90be-4089-b52b-3598703c7070",
   "metadata": {
    "tags": []
   },
   "outputs": [
    {
     "name": "stderr",
     "output_type": "stream",
     "text": [
      "C:\\Users\\Acer\\anaconda3\\Lib\\site-packages\\joblib\\externals\\loky\\backend\\context.py:110: UserWarning: Could not find the number of physical cores for the following reason:\n",
      "found 0 physical cores < 1\n",
      "Returning the number of logical cores instead. You can silence this warning by setting LOKY_MAX_CPU_COUNT to the number of cores you want to use.\n",
      "  warnings.warn(\n",
      "  File \"C:\\Users\\Acer\\anaconda3\\Lib\\site-packages\\joblib\\externals\\loky\\backend\\context.py\", line 217, in _count_physical_cores\n",
      "    raise ValueError(\n"
     ]
    },
    {
     "data": {
      "text/html": [
       "<style>#sk-container-id-2 {color: black;}#sk-container-id-2 pre{padding: 0;}#sk-container-id-2 div.sk-toggleable {background-color: white;}#sk-container-id-2 label.sk-toggleable__label {cursor: pointer;display: block;width: 100%;margin-bottom: 0;padding: 0.3em;box-sizing: border-box;text-align: center;}#sk-container-id-2 label.sk-toggleable__label-arrow:before {content: \"▸\";float: left;margin-right: 0.25em;color: #696969;}#sk-container-id-2 label.sk-toggleable__label-arrow:hover:before {color: black;}#sk-container-id-2 div.sk-estimator:hover label.sk-toggleable__label-arrow:before {color: black;}#sk-container-id-2 div.sk-toggleable__content {max-height: 0;max-width: 0;overflow: hidden;text-align: left;background-color: #f0f8ff;}#sk-container-id-2 div.sk-toggleable__content pre {margin: 0.2em;color: black;border-radius: 0.25em;background-color: #f0f8ff;}#sk-container-id-2 input.sk-toggleable__control:checked~div.sk-toggleable__content {max-height: 200px;max-width: 100%;overflow: auto;}#sk-container-id-2 input.sk-toggleable__control:checked~label.sk-toggleable__label-arrow:before {content: \"▾\";}#sk-container-id-2 div.sk-estimator input.sk-toggleable__control:checked~label.sk-toggleable__label {background-color: #d4ebff;}#sk-container-id-2 div.sk-label input.sk-toggleable__control:checked~label.sk-toggleable__label {background-color: #d4ebff;}#sk-container-id-2 input.sk-hidden--visually {border: 0;clip: rect(1px 1px 1px 1px);clip: rect(1px, 1px, 1px, 1px);height: 1px;margin: -1px;overflow: hidden;padding: 0;position: absolute;width: 1px;}#sk-container-id-2 div.sk-estimator {font-family: monospace;background-color: #f0f8ff;border: 1px dotted black;border-radius: 0.25em;box-sizing: border-box;margin-bottom: 0.5em;}#sk-container-id-2 div.sk-estimator:hover {background-color: #d4ebff;}#sk-container-id-2 div.sk-parallel-item::after {content: \"\";width: 100%;border-bottom: 1px solid gray;flex-grow: 1;}#sk-container-id-2 div.sk-label:hover label.sk-toggleable__label {background-color: #d4ebff;}#sk-container-id-2 div.sk-serial::before {content: \"\";position: absolute;border-left: 1px solid gray;box-sizing: border-box;top: 0;bottom: 0;left: 50%;z-index: 0;}#sk-container-id-2 div.sk-serial {display: flex;flex-direction: column;align-items: center;background-color: white;padding-right: 0.2em;padding-left: 0.2em;position: relative;}#sk-container-id-2 div.sk-item {position: relative;z-index: 1;}#sk-container-id-2 div.sk-parallel {display: flex;align-items: stretch;justify-content: center;background-color: white;position: relative;}#sk-container-id-2 div.sk-item::before, #sk-container-id-2 div.sk-parallel-item::before {content: \"\";position: absolute;border-left: 1px solid gray;box-sizing: border-box;top: 0;bottom: 0;left: 50%;z-index: -1;}#sk-container-id-2 div.sk-parallel-item {display: flex;flex-direction: column;z-index: 1;position: relative;background-color: white;}#sk-container-id-2 div.sk-parallel-item:first-child::after {align-self: flex-end;width: 50%;}#sk-container-id-2 div.sk-parallel-item:last-child::after {align-self: flex-start;width: 50%;}#sk-container-id-2 div.sk-parallel-item:only-child::after {width: 0;}#sk-container-id-2 div.sk-dashed-wrapped {border: 1px dashed gray;margin: 0 0.4em 0.5em 0.4em;box-sizing: border-box;padding-bottom: 0.4em;background-color: white;}#sk-container-id-2 div.sk-label label {font-family: monospace;font-weight: bold;display: inline-block;line-height: 1.2em;}#sk-container-id-2 div.sk-label-container {text-align: center;}#sk-container-id-2 div.sk-container {/* jupyter's `normalize.less` sets `[hidden] { display: none; }` but bootstrap.min.css set `[hidden] { display: none !important; }` so we also need the `!important` here to be able to override the default hidden behavior on the sphinx rendered scikit-learn.org. See: https://github.com/scikit-learn/scikit-learn/issues/21755 */display: inline-block !important;position: relative;}#sk-container-id-2 div.sk-text-repr-fallback {display: none;}</style><div id=\"sk-container-id-2\" class=\"sk-top-container\"><div class=\"sk-text-repr-fallback\"><pre>KMeans(init=&#x27;random&#x27;, max_iter=100, n_clusters=2, n_init=10, random_state=50)</pre><b>In a Jupyter environment, please rerun this cell to show the HTML representation or trust the notebook. <br />On GitHub, the HTML representation is unable to render, please try loading this page with nbviewer.org.</b></div><div class=\"sk-container\" hidden><div class=\"sk-item\"><div class=\"sk-estimator sk-toggleable\"><input class=\"sk-toggleable__control sk-hidden--visually\" id=\"sk-estimator-id-2\" type=\"checkbox\" checked><label for=\"sk-estimator-id-2\" class=\"sk-toggleable__label sk-toggleable__label-arrow\">KMeans</label><div class=\"sk-toggleable__content\"><pre>KMeans(init=&#x27;random&#x27;, max_iter=100, n_clusters=2, n_init=10, random_state=50)</pre></div></div></div></div></div>"
      ],
      "text/plain": [
       "KMeans(init='random', max_iter=100, n_clusters=2, n_init=10, random_state=50)"
      ]
     },
     "execution_count": 29,
     "metadata": {},
     "output_type": "execute_result"
    }
   ],
   "source": [
    "kmean.fit(total_unlabeled_data)"
   ]
  },
  {
   "cell_type": "code",
   "execution_count": 30,
   "id": "de219c32-59d4-4d20-9220-2c06d2277bb9",
   "metadata": {
    "tags": []
   },
   "outputs": [
    {
     "data": {
      "text/plain": [
       "array([0, 0, 0, ..., 1, 1, 1])"
      ]
     },
     "execution_count": 30,
     "metadata": {},
     "output_type": "execute_result"
    }
   ],
   "source": [
    "kmean.cluster_centers_\n",
    "kmean.n_iter_\n",
    "kmean.labels_"
   ]
  },
  {
   "cell_type": "code",
   "execution_count": 31,
   "id": "3cd68e44-2e1e-47ae-bd11-3bd366afa9d3",
   "metadata": {},
   "outputs": [
    {
     "data": {
      "image/png": "[encoded data removed]",
      "text/plain": [
       "<Figure size 640x480 with 1 Axes>"
      ]
     },
     "metadata": {},
     "output_type": "display_data"
    }
   ],
   "source": [
    "# 2 cluster centers can be seen and looking approximately at the right place\n",
    "plt.scatter(total_unlabeled_data[:,0],total_unlabeled_data[:,1],c=kmean.labels_)\n",
    "for i in kmean.cluster_centers_:\n",
    "    plt.scatter(i[0],i[1],color = 'red')"
   ]
  },
  {
   "cell_type": "code",
   "execution_count": 32,
   "id": "c77b5fd8-4e0c-4d35-a401-ef80deee8573",
   "metadata": {
    "tags": []
   },
   "outputs": [
    {
     "data": {
      "text/plain": [
       "array([0, 0, 0, ..., 1, 1, 1])"
      ]
     },
     "execution_count": 32,
     "metadata": {},
     "output_type": "execute_result"
    }
   ],
   "source": [
    "# for testing purposes only\n",
    "kmean.predict(total_unlabeled_data)"
   ]
  },
  {
   "cell_type": "code",
   "execution_count": 33,
   "id": "643f2e77-568d-416f-96ed-4fda707e375c",
   "metadata": {
    "tags": []
   },
   "outputs": [
    {
     "data": {
      "text/plain": [
       "array([[5385,  537],\n",
       "       [ 102, 6639]], dtype=int64)"
      ]
     },
     "execution_count": 33,
     "metadata": {},
     "output_type": "execute_result"
    }
   ],
   "source": [
    "confusion_matrix1 = confusion_matrix(train_data_labels,kmean.predict(total_unlabeled_data))\n",
    "confusion_matrix1"
   ]
  },
  {
   "cell_type": "markdown",
   "id": "1ad30661-08f7-4709-a344-9e12dee78be2",
   "metadata": {
    "tags": []
   },
   "source": [
    "In my opinion feature extraction worked nicely in case of 0 and 1 because there is a lot\n",
    "of difference in number of white/brighter color pixels between these two which made it easy to\n",
    "segment the data. As far as accuracy goes our model is not perfect but i think\n",
    "with knowing only these 2 features it was accurate enough"
   ]
  },
  {
   "cell_type": "markdown",
   "id": "126ff393-70b6-4834-887a-75df981cb000",
   "metadata": {
    "tags": []
   },
   "source": [
    "# Self created algorithm using tensorflow"
   ]
  },
  {
   "cell_type": "code",
   "execution_count": 34,
   "id": "053f2317-76d0-4ff9-a2c2-8cbdf59a419a",
   "metadata": {
    "tags": []
   },
   "outputs": [],
   "source": [
    "import tensorflow as tf\n",
    "from tensorflow import keras"
   ]
  },
  {
   "cell_type": "code",
   "execution_count": 35,
   "id": "cf7418ff-6ecc-47ce-a671-710e6d350345",
   "metadata": {
    "tags": []
   },
   "outputs": [
    {
     "name": "stdout",
     "output_type": "stream",
     "text": [
      "WARNING:tensorflow:From C:\\Users\\Acer\\anaconda3\\Lib\\site-packages\\keras\\src\\backend.py:873: The name tf.get_default_graph is deprecated. Please use tf.compat.v1.get_default_graph instead.\n",
      "\n"
     ]
    }
   ],
   "source": [
    "# basic algorthm using tensorflow and evaluating its output\n",
    "my_model = keras.Sequential([\n",
    "    keras.layers.Flatten(input_shape=(28, 28)),  # shape of the input\n",
    "    keras.layers.Dense(728, activation=tf.nn.relu),  # number of neurons filtering null data\n",
    "    keras.layers.Dense(10, activation=tf.nn.softmax)  # no of different type of data\n",
    "])"
   ]
  },
  {
   "cell_type": "code",
   "execution_count": 36,
   "id": "37ecfcbf-99c0-4692-be10-4ecd125407a5",
   "metadata": {
    "tags": []
   },
   "outputs": [],
   "source": [
    "# this basically runs epochs amount of time and each time it checks the loss\n",
    "# restart the algorithm and try to improve it accordingly so each loop improves \n",
    "# the algorithm guessing capability a litle bit\n",
    "my_model.compile(optimizer=tf.optimizers.Adam(), loss= 'sparse_categorical_crossentropy',metrics=['accuracy'])"
   ]
  },
  {
   "cell_type": "code",
   "execution_count": 41,
   "id": "ce664b79-f7f4-4939-b984-8a7d1b766d9f",
   "metadata": {
    "tags": []
   },
   "outputs": [
    {
     "name": "stdout",
     "output_type": "stream",
     "text": [
      "Epoch 1/20\n",
      "1500/1500 [==============================] - 7s 5ms/step - loss: 0.2726 - accuracy: 0.9549 - val_loss: 0.4779 - val_accuracy: 0.9439\n",
      "Epoch 2/20\n",
      "1500/1500 [==============================] - 7s 5ms/step - loss: 0.2726 - accuracy: 0.9563 - val_loss: 0.3668 - val_accuracy: 0.9545\n",
      "Epoch 3/20\n",
      "1500/1500 [==============================] - 7s 5ms/step - loss: 0.2548 - accuracy: 0.9588 - val_loss: 0.3832 - val_accuracy: 0.9526\n",
      "Epoch 4/20\n",
      "1500/1500 [==============================] - 7s 5ms/step - loss: 0.2260 - accuracy: 0.9616 - val_loss: 0.4507 - val_accuracy: 0.9475\n",
      "Epoch 5/20\n",
      "1500/1500 [==============================] - 7s 5ms/step - loss: 0.2095 - accuracy: 0.9651 - val_loss: 0.4320 - val_accuracy: 0.9511\n",
      "Epoch 6/20\n",
      "1500/1500 [==============================] - 7s 5ms/step - loss: 0.2016 - accuracy: 0.9644 - val_loss: 0.4396 - val_accuracy: 0.9477\n",
      "Epoch 7/20\n",
      "1500/1500 [==============================] - 7s 5ms/step - loss: 0.2082 - accuracy: 0.9671 - val_loss: 0.4606 - val_accuracy: 0.9513\n",
      "Epoch 8/20\n",
      "1500/1500 [==============================] - 7s 5ms/step - loss: 0.1881 - accuracy: 0.9681 - val_loss: 0.3692 - val_accuracy: 0.9544\n",
      "Epoch 9/20\n",
      "1500/1500 [==============================] - 7s 5ms/step - loss: 0.1810 - accuracy: 0.9698 - val_loss: 0.4737 - val_accuracy: 0.9560\n",
      "Epoch 10/20\n",
      "1500/1500 [==============================] - 7s 5ms/step - loss: 0.1789 - accuracy: 0.9706 - val_loss: 0.5390 - val_accuracy: 0.9552\n",
      "Epoch 11/20\n",
      "1500/1500 [==============================] - 7s 5ms/step - loss: 0.1782 - accuracy: 0.9707 - val_loss: 0.5496 - val_accuracy: 0.9593\n",
      "Epoch 12/20\n",
      "1500/1500 [==============================] - 7s 5ms/step - loss: 0.1822 - accuracy: 0.9718 - val_loss: 0.5176 - val_accuracy: 0.9586\n",
      "Epoch 13/20\n",
      "1500/1500 [==============================] - 8s 5ms/step - loss: 0.1728 - accuracy: 0.9732 - val_loss: 0.6661 - val_accuracy: 0.9591\n",
      "Epoch 14/20\n",
      "1500/1500 [==============================] - 8s 5ms/step - loss: 0.1766 - accuracy: 0.9733 - val_loss: 0.6871 - val_accuracy: 0.9551\n",
      "Epoch 15/20\n",
      "1500/1500 [==============================] - 8s 5ms/step - loss: 0.1683 - accuracy: 0.9743 - val_loss: 0.6732 - val_accuracy: 0.9559\n",
      "Epoch 16/20\n",
      "1500/1500 [==============================] - 8s 5ms/step - loss: 0.1595 - accuracy: 0.9762 - val_loss: 0.6089 - val_accuracy: 0.9624\n",
      "Epoch 17/20\n",
      "1500/1500 [==============================] - 8s 5ms/step - loss: 0.1643 - accuracy: 0.9774 - val_loss: 0.5888 - val_accuracy: 0.9582\n",
      "Epoch 18/20\n",
      "1500/1500 [==============================] - 8s 5ms/step - loss: 0.1526 - accuracy: 0.9771 - val_loss: 0.6575 - val_accuracy: 0.9599\n",
      "Epoch 19/20\n",
      "1500/1500 [==============================] - 8s 5ms/step - loss: 0.1469 - accuracy: 0.9776 - val_loss: 0.6296 - val_accuracy: 0.9611\n",
      "Epoch 20/20\n",
      "1500/1500 [==============================] - 8s 5ms/step - loss: 0.1354 - accuracy: 0.9791 - val_loss: 0.6753 - val_accuracy: 0.9612\n"
     ]
    }
   ],
   "source": [
    "# fitting data in our model\n",
    "model_history = my_model.fit(train_images,train_labels,epochs=20, validation_split=0.2)"
   ]
  },
  {
   "cell_type": "code",
   "execution_count": 42,
   "id": "4dddcc18-2d94-4c96-ba72-1a13ce3da5ad",
   "metadata": {
    "tags": []
   },
   "outputs": [
    {
     "name": "stdout",
     "output_type": "stream",
     "text": [
      "313/313 [==============================] - 1s 2ms/step - loss: 0.5846 - accuracy: 0.9640\n"
     ]
    },
    {
     "data": {
      "text/plain": [
       "[0.5845856666564941, 0.9639999866485596]"
      ]
     },
     "execution_count": 42,
     "metadata": {},
     "output_type": "execute_result"
    }
   ],
   "source": [
    "# evaluating the model for loss and accuracy on test data. I think the model worked really nice with the test data\n",
    "my_model.evaluate(test_images,test_labels)"
   ]
  },
  {
   "cell_type": "code",
   "execution_count": 43,
   "id": "31068725-272b-492c-8970-2108fd446a05",
   "metadata": {},
   "outputs": [],
   "source": [
    "def plt_accuracy_loss(history):\n",
    "    fog = plt.figure(figsize=(10,5))\n",
    "    \n",
    "    #plot accuracy\n",
    "    plt.subplot(221)\n",
    "    plt.plot(history.history['accuracy'],'bo--',label='acc')\n",
    "    plt.plot(history.history['val_accuracy'],'ro--',label='val_acc')\n",
    "    plt.title(\"train accuracy vs val accuracy\")\n",
    "    plt.ylabel(\"accuracy\")\n",
    "    plt.xlabel(\"epochs\")\n",
    "    plt.legend()\n",
    "    \n",
    "    #plot loss \n",
    "    plt.subplot(222)\n",
    "    plt.plot(history.history['loss'],'bo--',label='loss')\n",
    "    plt.plot(history.history['val_loss'],'ro--',label='val_loss')\n",
    "    plt.title('train loss vs val loss')\n",
    "    plt.ylabel(\"loss\")\n",
    "    plt.xlabel(\"epochs\")\n",
    "    \n",
    "    plt.legend()\n",
    "    plt.show()\n",
    "    \n",
    "    \n",
    "    "
   ]
  },
  {
   "cell_type": "code",
   "execution_count": 44,
   "id": "d72e81c8-e620-4dcf-8ea9-14e532d09986",
   "metadata": {
    "tags": []
   },
   "outputs": [
    {
     "data": {
      "image/png": "[encoded data removed]",
      "text/plain": [
       "<Figure size 1000x500 with 2 Axes>"
      ]
     },
     "metadata": {},
     "output_type": "display_data"
    }
   ],
   "source": [
    "plt_accuracy_loss(model_history)"
   ]
  },
  {
   "cell_type": "code",
   "execution_count": 40,
   "id": "ad6bc65b-56f1-4850-94e1-6f37cd08f128",
   "metadata": {
    "tags": []
   },
   "outputs": [],
   "source": [
    "# the graph shows that 3 epochs were enough after that we are overfitting the model in terms of accuracy\n",
    "# There is not significant diference in val loss well after 3 epochs \n",
    "# but overall i will say the model is pretty accurate "
   ]
  }
 ],
 "metadata": {
  "kernelspec": {
   "display_name": "Python 3",
   "language": "python",
   "name": "python3"
  },
  "language_info": {
   "codemirror_mode": {
    "name": "ipython",
    "version": 3
   },
   "file_extension": ".py",
   "mimetype": "text/x-python",
   "name": "python",
   "nbconvert_exporter": "python",
   "pygments_lexer": "ipython3",
   "version": "3.11.5"
  }
 },
 "nbformat": 4,
 "nbformat_minor": 5
}
